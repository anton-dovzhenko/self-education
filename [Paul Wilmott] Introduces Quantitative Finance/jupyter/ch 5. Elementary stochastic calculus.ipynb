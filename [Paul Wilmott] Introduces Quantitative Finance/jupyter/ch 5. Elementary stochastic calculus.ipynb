{
 "cells": [
  {
   "cell_type": "markdown",
   "metadata": {},
   "source": [
    "#### The Markov Property\n",
    "Expected value of $S_i$ only depends on the previous value $S_{i-1}$:\n",
    "$$ E[S_i | S_0, S_1, S_{i-1}] = E[S_i | S_{i-1}] $$"
   ]
  },
  {
   "cell_type": "markdown",
   "metadata": {},
   "source": [
    "#### The Martingale Property\n",
    "$$ E[ S_i | S_j, j < i ] = S_j$$"
   ]
  },
  {
   "cell_type": "markdown",
   "metadata": {},
   "source": [
    "#### Quadratic Variation of arithmetic random walk\n",
    "$$ \\sum_{j=1}^{i} (S_j - S_{j-1})^2 = i$$\n",
    "because $|S_j - S_{j-1}| = 1$"
   ]
  },
  {
   "cell_type": "markdown",
   "metadata": {},
   "source": [
    "#### Brownian Motion\n",
    "Let's assume that size of bet is $\\sqrt{\\frac{t}{n}}$ .<br>\n",
    "Then $E[S(t)] = 0$ and $ E[S(t)^2] = \\sum_{j=1}^{n} (S_j - S_{j-1})^2 = n \\times (\\sqrt{\\frac{t}{n}})^2 = t $"
   ]
  },
  {
   "cell_type": "markdown",
   "metadata": {},
   "source": [
    "#### Stochastic Integration\n",
    "Let's define <b>stochastic integral</b> by\n",
    "$$\n",
    "W(t) = \\int_0^t f(\\tau) dX(\\tau) =\n",
    "\\lim_{n \\rightarrow \\infty} \\sum_{j=1}^{n} f(t_{j-1})(X(t_j) - X(t_{j-1}))\n",
    "$$\n",
    "which logically means summation of $f$ at left-hand points $t_{j-1}$\n",
    "<br/>\n",
    "Shorthand for $W(t)$ is\n",
    "$$\n",
    "dW = f(t)dX\n",
    "$$\n",
    "where we can think about $dX$ as increment of $X$, which is Normal random variable with mean zero and standard deviation $dt^{\\frac{1}{2}}$.<br/>"
   ]
  },
  {
   "cell_type": "markdown",
   "metadata": {},
   "source": [
    "#### The mean square limit\n",
    "$$ \\int_{0}^{t} (dX)^2 = t $$"
   ]
  },
  {
   "cell_type": "markdown",
   "metadata": {},
   "source": [
    "#### Ito's Lemma\n",
    "$$\n",
    "F(X(t)) = F(X(0)) + \\int_{0}^{t} \\frac{dF}{dX}(X(\\tau))dX(\\tau) + \\frac{1}{2} \\int_{0}^{t} \\frac{d^2 F}{dX^2}(X(\\tau))d\\tau\n",
    "$$\n",
    "or in differential equation form\n",
    "$$\n",
    "dF=\\frac{dF}{dX}dX + \\frac{1}{2} \\frac{d^2F}{dX^2}dt .\n",
    "$$\n",
    "For two dimensions where $dX_1^2 = dt$, $dX_2^2 = dt$ and $dX_1dX_2 = \\rho dt$, where $\\rho$ is correlation between $X_1$ and $X_2$,<br/> \n",
    "$dS_1 = a_1(S_1, S_2, t)dt + b_1(S_1, S_2, t)dX_1$ \n",
    "and <br/>\n",
    "$dS_2 = a_2(S_1, S_2, t)dt + b_1(S_2, S_2, t)dX_2$:\n",
    "\n",
    "$$\n",
    "dV = \\frac{\\partial V}{\\partial t}dt + \n",
    "\\frac{\\partial V}{\\partial S_1}dS_1 +\n",
    "\\frac{\\partial V}{\\partial S_2}dS_2 +\n",
    "\\frac{1}{2}b_1^2 \\frac{\\partial^2 V}{\\partial S_1^2}dt +\n",
    "\\rho b_1 b_2 \\frac{\\partial^2 V}{\\partial S_1 \\partial S_2}dt +\n",
    "\\frac{1}{2}b_2^2 \\frac{\\partial^2 V}{\\partial S_2^2}dt +\n",
    "$$"
   ]
  },
  {
   "cell_type": "code",
   "execution_count": null,
   "metadata": {
    "collapsed": true
   },
   "outputs": [],
   "source": []
  }
 ],
 "metadata": {
  "kernelspec": {
   "display_name": "Python 3",
   "language": "python",
   "name": "python3"
  },
  "language_info": {
   "codemirror_mode": {
    "name": "ipython",
    "version": 3
   },
   "file_extension": ".py",
   "mimetype": "text/x-python",
   "name": "python",
   "nbconvert_exporter": "python",
   "pygments_lexer": "ipython3",
   "version": "3.6.3"
  }
 },
 "nbformat": 4,
 "nbformat_minor": 2
}
