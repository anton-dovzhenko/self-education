{
 "cells": [
  {
   "cell_type": "markdown",
   "metadata": {},
   "source": [
    "We can write option value as\n",
    "$$V(S, t; \\sigma, \\mu; E, T; r)$$\n",
    "where \n",
    "<ul>\n",
    "    <li>S and t are variables</li>\n",
    "    <li>$\\sigma$ amd $\\mu$ are parameters associated with asset price</li>\n",
    "    <li>E and T are parameters associated with particular contract</li>\n",
    "    <li>r is parameters associated with currency in which asset is quoted</li>\n",
    "</ul>"
   ]
  },
  {
   "cell_type": "markdown",
   "metadata": {},
   "source": [
    "Let's build portfoio of one long option and one short in some quantity delta $\\Delta$\n",
    "$$\\Pi = V(S, t) - \\Delta S$$\n",
    "where underlying follows lognormal random walk $dS = \\mu Sdt + \\sigma S dX$"
   ]
  },
  {
   "cell_type": "markdown",
   "metadata": {},
   "source": [
    "Portfolio changes as\n",
    "$$\n",
    "d\\Pi = \\frac{\\partial V}{\\partial t}dt +\n",
    "\\frac{\\partial V}{\\partial S}dS +\n",
    "\\frac{1}{2} \\sigma^2 S^2 \\frac{\\partial^2 V}{\\partial S^2}dt -\n",
    "\\Delta dS \\quad (i)\n",
    "$$"
   ]
  },
  {
   "cell_type": "markdown",
   "metadata": {},
   "source": [
    "In formula $(i)$ terms with $dt$ are deterministic and terms with $dS$ are random.<br/>\n",
    "To eliminate portfolio risk we should choose $\\Delta$ carefully:\n",
    "$$\n",
    "(\\frac{\\partial V}{\\partial S} - \\Delta)dS\n",
    "$$\n",
    "If we choose \n",
    "$$ \\Delta = \\frac{\\partial V}{\\partial S} \\quad (ii)$$\n",
    "then randomness is reduced to zero."
   ]
  },
  {
   "cell_type": "markdown",
   "metadata": {},
   "source": [
    "After we chose $\\Delta$ from $(ii)$ we have \n",
    "$$\n",
    "d\\Pi = \\left( \\frac{\\partial V}{\\partial t} + \\frac{1}{2} \\sigma^2 S^2 \\frac{\\partial^2 V}{\\partial S^2} \\right)dt\n",
    "\\quad (iii)\n",
    "$$\n",
    "This change is completely riskless. And if so, by following no-arbitrage principle, it must be equivalent to risk-free interest rate:\n",
    "$$\n",
    "d\\Pi = r\\Pi dt \\quad (iv)\n",
    "$$"
   ]
  },
  {
   "cell_type": "markdown",
   "metadata": {},
   "source": [
    "### The Black-Scholes Equation\n",
    "From $(iii)$ and $(iv)$ we find that\n",
    "$$\n",
    "\\frac{\\partial V}{\\partial t} +\n",
    "\\frac{1}{2} \\sigma^2 S^2 \\frac{\\partial^2 V}{\\partial S^2} +\n",
    "rS\\frac{\\partial V}{\\partial S} - \n",
    "rV = 0 \\quad (v)\n",
    "$$\n",
    "The Black-Scholes equation $(v)$ is <b>linear parabolic partial differential equation</b>."
   ]
  },
  {
   "cell_type": "markdown",
   "metadata": {},
   "source": [
    "#### The Black-Scholes Assumptions\n",
    "<ul>\n",
    "    <li>The underlying follows a lognormal random walk</li>\n",
    "    <li>The risk-free interest rate is a known function of time</li>\n",
    "    <li>There are no dividends on underlying</li>\n",
    "    <li>Delta hedging is done continuously</li>\n",
    "    <li>There are no transaction costs on the underlying</li>\n",
    "    <li>There are no arbitrage opportunities</li>\n",
    "</ul>"
   ]
  },
  {
   "cell_type": "markdown",
   "metadata": {},
   "source": [
    "#### Final Conditions\n",
    "<ul>\n",
    "<li>Call option: $V(S,T) = max(S-E, 0)$</li>\n",
    "<li>Put option: $V(S,T) = max(E-S, 0)$</li>\n",
    "<li>Binary Call: V(S,T) = H(S-E)</li>\n",
    "<li>Binary Put: V(S,T) = H(E-S)</li>\n",
    "</ul>"
   ]
  },
  {
   "cell_type": "markdown",
   "metadata": {},
   "source": [
    "#### The Black-Scholes Equation for dividend paying equities\n",
    "From $(iii)$ and $(iv)$ we find that\n",
    "$$\n",
    "\\frac{\\partial V}{\\partial t} +\n",
    "\\frac{1}{2} \\sigma^2 S^2 \\frac{\\partial^2 V}{\\partial S^2} +\n",
    "(r-D)S\\frac{\\partial V}{\\partial S} - \n",
    "rV = 0 \\quad (v)\n",
    "$$\n",
    "where $D$ is continuous and constant dividend yield"
   ]
  },
  {
   "cell_type": "code",
   "execution_count": null,
   "metadata": {
    "collapsed": true
   },
   "outputs": [],
   "source": []
  }
 ],
 "metadata": {
  "kernelspec": {
   "display_name": "Python 3",
   "language": "python",
   "name": "python3"
  },
  "language_info": {
   "codemirror_mode": {
    "name": "ipython",
    "version": 3
   },
   "file_extension": ".py",
   "mimetype": "text/x-python",
   "name": "python",
   "nbconvert_exporter": "python",
   "pygments_lexer": "ipython3",
   "version": "3.6.3"
  }
 },
 "nbformat": 4,
 "nbformat_minor": 2
}
