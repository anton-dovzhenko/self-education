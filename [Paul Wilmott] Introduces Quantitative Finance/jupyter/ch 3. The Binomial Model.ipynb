{
 "cells": [
  {
   "cell_type": "markdown",
   "metadata": {},
   "source": [
    "## Notes"
   ]
  },
  {
   "cell_type": "markdown",
   "metadata": {},
   "source": [
    "#### Delta Heding Ratio\n",
    "$$\\Delta = \\frac{C_u - C_d}{S_u - S_d} = \\frac{Range\\; of\\; options\\; payoffs}{Range\\; of\\; stock\\; prices}$$"
   ]
  },
  {
   "cell_type": "markdown",
   "metadata": {},
   "source": [
    "#### Options model definitions\n",
    "$S$ - initial asser value <br/>\n",
    "$u \\times S$ - asset value when rises <br/>\n",
    "$v \\times S$ - asset value when falls <br/>\n",
    "$0 < v < 1 < u$ <br/>\n",
    "$p$ - probability of rise <br/>\n",
    "$\\mu$ - asset drift <br/>\n",
    "$\\sigma$ - asset volatility <br/>\n",
    "$$u = 1 + \\sigma \\sqrt{\\delta t}$$\n",
    "$$v = 1 - \\sigma \\sqrt{\\delta t}$$\n",
    "$$p = \\frac{1}{2} + \\frac{\\mu \\sqrt{\\delta t}}{2\\sigma}$$"
   ]
  },
  {
   "cell_type": "markdown",
   "metadata": {},
   "source": [
    "#### Average asset change\n",
    "The expected asset price change after one time step is\n",
    "$$\n",
    "puS + (1-p)vS = (1 + {\\mu \\delta t}) S\n",
    "$$"
   ]
  },
  {
   "cell_type": "markdown",
   "metadata": {},
   "source": [
    "#### Standard deviation of asset price change\n",
    "The variance  of change in asset price is\n",
    "$$ S^2 (p(u - 1 - \\mu\\delta t)^2 + (1 - p)(v - 1 - \\mu\\delta t)^2 ) = S^2 (\\sigma^2\\delta t - \\mu^2 \\delta t)$$\n",
    "\n",
    "Returns' standard deviation is approximately $\\sigma\\sqrt{\\delta t}$"
   ]
  },
  {
   "cell_type": "markdown",
   "metadata": {},
   "source": [
    "#### Option's Delta\n",
    "\n",
    "$\\Delta = \\frac{V^+ - V^-}{S(u-v)}$ <br/>\n",
    "Delta is sensitivity to price change $\\frac{\\partial V}{\\partial S}$ <br/>\n",
    "Gamma is sensitivity of Delta to price change $\\frac{\\partial^2 V}{\\partial S^2}$ <br/>\n",
    "Theta is sensitivity to time $\\frac{\\partial V}{\\partial t}$ <br/>\n",
    "Vega is sensitivity to volatility $\\frac{\\partial V}{\\partial \\sigma}$ <br/>"
   ]
  },
  {
   "cell_type": "markdown",
   "metadata": {},
   "source": [
    "#### Black-Scholes equation\n",
    "$$ \\frac{\\partial V}{\\partial t} + \n",
    "\\frac{1}{2} \\sigma^2 S^2 \\frac{\\partial^2 V}{\\partial S^2} +\n",
    "rS\\frac{\\partial V}{\\partial S} -\n",
    "rV = 0$$"
   ]
  },
  {
   "cell_type": "markdown",
   "metadata": {},
   "source": [
    "## Exercises"
   ]
  },
  {
   "cell_type": "markdown",
   "metadata": {
    "collapsed": true
   },
   "source": [
    "----------------\n",
    "#### <font color=\"orange\"> Exercise 1 [done] </font>\n",
    "\n",
    "\\begin{cases} \n",
    "pu + (1-p)v = e^{\\mu\\delta t} \\\\ \n",
    "pu^2+(1-p)v^2 = e^{(2\\mu + \\sigma^2)\\delta t} \n",
    "\\end{cases}\n",
    "\n",
    "assuming $p = 0.5$\n",
    "\n",
    "\\begin{cases} \n",
    "u + v = 2e^{\\mu\\delta t} \\\\ \n",
    "u^2 + v^2 = 2e^{(2\\mu + \\sigma^2)\\delta t} \n",
    "\\end{cases}\n",
    "\n",
    "implies\n",
    "\n",
    "\\begin{cases} \n",
    "v = 2e^{\\mu\\delta t} - u \\\\ \n",
    "u^2 - 2ue^{\\mu\\delta t} + e^{2\\mu\\delta t}(2 - e^{\\sigma^2 \\delta t}) = 0\n",
    "\\end{cases}\n",
    "\n",
    "Hence\n",
    "\n",
    "\\begin{cases} \n",
    "u = e^{\\mu\\delta t} (1 + \\sqrt{e^{\\sigma^2 \\delta t} - 1}) \\\\ \n",
    "v = 2e^{\\mu\\delta t} - e^{\\mu\\delta t} (1 + \\sqrt{e^{\\sigma^2 \\delta t} - 1})\n",
    "\\end{cases}"
   ]
  },
  {
   "cell_type": "markdown",
   "metadata": {},
   "source": [
    "----------------\n",
    "#### Exercise 2 [TO DO]"
   ]
  },
  {
   "cell_type": "markdown",
   "metadata": {},
   "source": [
    "----------------\n",
    "#### <font color=\"orange\">Exercise 3 [done]</font>\n",
    "###### Delta hedging approach\n",
    "$Type=Call, Class=European, S = 80, K=79, uS = 84, vS=76, r=0$ <br/>\n",
    "Binomial tree is\n",
    "<table>\n",
    "<tr><td></td><td>$max(84-79, 0) = 5$</td></tr>\n",
    "<tr><td>C</td><td></td></tr>\n",
    "<tr><td></td><td>$max(76-79, 0) = 0$</td></tr>\n",
    "</table>\n",
    "If we set up a Black-Scholes hedged portfolio, $C - \\Delta S$, then binomial tree will be\n",
    "<table>\n",
    "<tr><td></td><td>$5 - 84 \\Delta$</td></tr>\n",
    "<tr><td>$C - 80\\Delta$</td><td></td></tr>\n",
    "<tr><td></td><td>$-76 \\Delta$</td></tr>\n",
    "</table>\n",
    "For a risk-freee portfolio $5 - 84\\Delta = -76\\Delta$, hence $\\Delta = \\frac{5}{8}$. <br/>\n",
    "In absense of arbitrage $C - 80\\Delta = -76\\Delta$, hence $C=2.5$\n",
    "\n",
    "###### Risk neutral approach\n",
    "$p' 84 + (1-p')76 = 80$, hence risk-neutral probability is $p'=0.5$ <br/>\n",
    "Option value is got from risk-neutral payoff $5p' + 0 \\times (1-p') = 5 * 0.5 = 2.5$ <br/>\n",
    "$C = 2.5$\n",
    "\n",
    "<br/><b>Answer: 2.5 </b>"
   ]
  },
  {
   "cell_type": "markdown",
   "metadata": {},
   "source": [
    "----------------\n",
    "#### <font color=\"orange\"> Exercise 4  [done] </font>\n",
    "$Type=Call, Class=European, S = 92, K=90, uS = 98, vS=86, r=0.02$\n",
    "###### Delta hedging approach\n",
    "$8 - 98\\Delta = 0 - 86\\Delta \\implies \\Delta = \\frac{5}{8}$ <br/>\n",
    "$C - 92\\Delta = -e^{-0.02} \\times 86 \\Delta \\implies C = 5.135$\n",
    "###### Risk neutral approach\n",
    "$p' 98e^{-0.02} + (1-p')86e^{-0.02} = 92$, hence risk-neutral probability is $p'=0.655$ <br/>\n",
    "Option value is got from risk-neutral payoff $8p' + 0 \\times (1-p') = 5.239$ <br/>\n",
    "C = 5.239e^{-0.02} = 5.135\n",
    "\n",
    "<br/><b>Answer: 5.135 </b>"
   ]
  },
  {
   "cell_type": "markdown",
   "metadata": {},
   "source": [
    "----------------\n",
    "#### <font color=\"orange\"> Exercise 5 [done] <font>\n",
    "$Type=Call, Class=European, S = 45, K=44, uS = 47, vS=43, r=0.06$<br/>\n",
    "\n",
    "Stock price table:<br/>\n",
    "<table>\n",
    "<tr><td>  </td><td>  </td><td>49</td></tr>\n",
    "<tr><td>  </td><td>47</td><td>  </td></tr>\n",
    "<tr><td>45</td><td>  </td><td>45</td></tr>\n",
    "<tr><td>  </td><td>43</td><td>  </td></tr>\n",
    "<tr><td>  </td><td>  </td><td>41</td></tr>\n",
    "</table>\n",
    "\n",
    "\n",
    "Option payoff table:<br/>\n",
    "<table>\n",
    "<tr><td width=\"100\">   </td><td width=\"100\">     </td><td width=\"100\"> 5</td></tr>\n",
    "<tr><td>   </td><td>$C_1=3.22$</td><td>  </td></tr>\n",
    "<tr><td>$C$</td><td>     </td><td> 1</td></tr>\n",
    "<tr><td>   </td><td>$C_2=0.55$</td><td>  </td></tr>\n",
    "<tr><td>   </td><td>     </td><td> 0</td></tr>\n",
    "</table>\n",
    "\n",
    "###### Delta hedging approach\n",
    "Find $C_1$: <br/>\n",
    "$5 - 49 \\Delta_1 = 1 - 45\\Delta_1 \\implies \\Delta_1=1$ <br/>\n",
    "$C_1 - 47\\Delta_1 = e^{-0.06/12}(1 - 45 \\Delta_1) \\implies C_1 = 3.22$ <br/>\n",
    "\n",
    "Find $C_2$: <br/>\n",
    "$1 - 45\\Delta_2 = 0 - 41\\Delta_2 \\implies \\Delta_2 = \\frac{1}{4}$<br/>\n",
    "$C_2 - 43\\Delta_2 = e^{-0.06/12}(0 - 41\\Delta_2) \\implies C_2 = 0.55$ <br/>\n",
    "\n",
    "Find $C$: <br/>\n",
    "$3.22 - 47\\Delta = 0.55 - 43\\Delta \\implies \\Delta = 0.6675$<br/>\n",
    "$C - 45\\Delta = e^{-0.06/12}(0.55-43\\Delta) \\implies C = 2.025$\n",
    "\n",
    "###### Risk neutral approach\n",
    "$p_1^{'}49e^{-0.005} + (1-p_1^{'})45e^{-0.005}=47 \\implies p_1^{'}=0.559$<br/>\n",
    "$C_1 = e^{\\frac{-0.06}{12}}(5 \\times p_1^{'} + 1 \\times (1 - p_1^{'})) = 3.236 e^{-0.005} = 3.22$ <br/>\n",
    "and so force ...\n",
    "\n",
    "<br/><b>Answer: 2.025 </b>"
   ]
  },
  {
   "cell_type": "markdown",
   "metadata": {},
   "source": [
    "--------------\n",
    "#### <font color=\"orange\"> Exercise 6 [done] </font>\n",
    "$Type=Put, Class=American, S = 63, K = 61, r = 0.04$\n",
    "\n",
    "Stock price table:<br/>\n",
    "<table>\n",
    "<tr><td>  </td><td>  </td><td>69</td></tr>\n",
    "<tr><td>  </td><td>66</td><td>  </td></tr>\n",
    "<tr><td>63</td><td>  </td><td>63</td></tr>\n",
    "<tr><td>  </td><td>60</td><td>  </td></tr>\n",
    "<tr><td>  </td><td>  </td><td>57</td></tr>\n",
    "</table>\n",
    "\n",
    "Option price:<br/>\n",
    "<table>\n",
    "<tr><td> </td><td>  </td><td>0</td></tr>\n",
    "<tr><td> </td><td>P1</td><td>  </td></tr>\n",
    "<tr><td>P</td><td>  </td><td>0</td></tr>\n",
    "<tr><td> </td><td>P2</td><td>  </td></tr>\n",
    "<tr><td> </td><td>  </td><td>4</td></tr>\n",
    "</table>\n",
    "\n",
    "###### Delta hedging approach\n",
    "Find $P_1$:<br/>\n",
    "$0 - 69\\Delta_1 = 0 - 63\\Delta_1$, hence $\\Delta_1 = 0$ <br/>\n",
    "$P_1 - 66\\Delta_1 = e^{-0.04 / 4} 0$, hence $P_1 = 0$ <br/>\n",
    "<br/>\n",
    "\n",
    "Find $P_2$:<br/>\n",
    "$0 - 63\\Delta_2 = 4 - 57\\Delta_2$, hence $\\Delta_2 = -\\frac{2}{3}$ <br/>\n",
    "$P_2 - 60\\Delta_2 = -63 \\Delta_2 e^{-0.04 / 4} \\implies \n",
    "P_2 = -\\frac{2}{3} * (60 - e^{-0.04 / 4} * 63) \\implies \n",
    "P_2 = 1.58$ (because 1.58 is more than payoff=1)<br/>\n",
    "<br/>\n",
    "\n",
    "Find $P$:<br/>\n",
    "$0 - 66\\Delta = 1.58 - 60\\Delta \\implies\n",
    "6\\Delta = -1.58 \\implies \\Delta=-0.263$<br/>\n",
    "$P - 63\\Delta = -66\\Delta e^{-0.04 / 4} \\implies\n",
    "P = -0.263(63 - 66 e^{-0.04 / 4}) = 0.61\n",
    "$\n",
    "\n",
    "<br/><b>Answer: 0.61 </b>"
   ]
  },
  {
   "cell_type": "markdown",
   "metadata": {},
   "source": [
    "--------------\n",
    "#### <font color=\"orange\"> Exercise 7 [done] </font>\n",
    "$S = 15, uS = 17, vS = 13, payoff = \\max (S^2-159, 0)$\n",
    "\n",
    "###### Delta hedging approach\n",
    "$130 - 17\\Delta = 10 - 13\\Delta \\implies \\Delta = 30$ <br/>\n",
    "$C - 15\\Delta = 10 - 13\\Delta \\implies C = 10 + 2\\Delta = 10 + 2*30 = 70$\n",
    "\n",
    "###### Risk neutral approach\n",
    "$17p' + 13(1-p') = 15 \\implies p'=0.5$ <br/>\n",
    "$C = 130p' + 10(1-p') = 65 + 5 = 70$\n",
    "\n",
    "<b>Answer: 70$ </b>"
   ]
  },
  {
   "cell_type": "markdown",
   "metadata": {},
   "source": [
    "#### <font color=\"orange\"> Exercise 8 [done] </font>\n",
    "$Type=Put, Class=American, S = 180, uS = 203, vS = 152, r = 0.03$<br/>\n",
    "Let's $K \\in [152, 203]$, then binomial tree is\n",
    "<table>\n",
    "<tr><td></td>              <td>$0$</td></tr>\n",
    "<tr><td>$P=K-180$</td>     <td></td></tr>\n",
    "<tr><td></td>              <td>$K - 152$</td></tr>\n",
    "</table>\n",
    "Then $0 - 203\\Delta = (K - 152) - 152\\Delta \\implies\n",
    "\\Delta = \\frac{152 - K}{51}\n",
    "$<br/>\n",
    "$P - 180\\Delta = -203\\Delta e^{-0.03} \\implies\n",
    "P = \\Delta (180 - 203e^{-0.03}) \\implies\n",
    "K-180 = \\frac{152 - K}{51} (180 - 203e^{-0.03})$<br/>\n",
    "$\\implies K - 180 = 0.33 \\times (K - 152) \\implies K=196.72$<br>\n",
    "\n",
    "<b>Answer: 196.72 </b>"
   ]
  },
  {
   "cell_type": "markdown",
   "metadata": {},
   "source": [
    "--------------\n",
    "#### <font color=\"orange\"> Exercise 9 [done] </font>\n",
    "$75 \\times e^{\\frac{0.04}{4}} = 92 \\times p + 59 \\times (1-p) \\implies p = 0.5077$ "
   ]
  },
  {
   "cell_type": "code",
   "execution_count": null,
   "metadata": {
    "collapsed": true
   },
   "outputs": [],
   "source": []
  }
 ],
 "metadata": {
  "kernelspec": {
   "display_name": "Python 3",
   "language": "python",
   "name": "python3"
  },
  "language_info": {
   "codemirror_mode": {
    "name": "ipython",
    "version": 3
   },
   "file_extension": ".py",
   "mimetype": "text/x-python",
   "name": "python",
   "nbconvert_exporter": "python",
   "pygments_lexer": "ipython3",
   "version": "3.6.3"
  }
 },
 "nbformat": 4,
 "nbformat_minor": 2
}
