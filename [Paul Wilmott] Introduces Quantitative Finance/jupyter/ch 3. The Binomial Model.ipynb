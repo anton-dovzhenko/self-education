{
 "cells": [
  {
   "cell_type": "markdown",
   "metadata": {},
   "source": [
    "#### Delta Heding Ratio\n",
    "$$\\Delta = \\frac{C_u - C_d}{S_u - S_d} = \\frac{Range\\; of\\; options\\; payoffs}{Range\\; of\\; stock\\; prices}$$"
   ]
  },
  {
   "cell_type": "markdown",
   "metadata": {},
   "source": [
    "#### Options model definitions\n",
    "$S$ - initial asser value <br/>\n",
    "$u \\times S$ - asset value when rises <br/>\n",
    "$v \\times S$ - asset value when falls <br/>\n",
    "$0 < v < 1 < u$ <br/>\n",
    "$p$ - probability of rise <br/>\n",
    "$\\mu$ - asset drift <br/>\n",
    "$\\sigma$ - asset volatility <br/>\n",
    "$$u = 1 + \\sigma \\sqrt{\\delta t}$$\n",
    "$$v = 1 - \\sigma \\sqrt{\\delta t}$$\n",
    "$$p = \\frac{1}{2} + \\frac{\\mu \\sqrt{\\delta t}}{2\\sigma}$$"
   ]
  },
  {
   "cell_type": "markdown",
   "metadata": {},
   "source": [
    "#### Average asset change\n",
    "The expected asset price change after one time step is\n",
    "$$\n",
    "puS + (1-p)vS = (1 + {\\mu \\delta t}) S\n",
    "$$"
   ]
  },
  {
   "cell_type": "markdown",
   "metadata": {},
   "source": [
    "#### Standard deviation of asset price change\n",
    "The variance  of change in asset price is\n",
    "$$ S^2 (p(u - 1 - \\mu\\delta t)^2 + (1 - p)(v - 1 - \\mu\\delta t)^2 ) = S^2 (\\sigma^2\\delta t - \\mu^2 \\delta t)$$\n",
    "\n",
    "Returns' standard deviation is approximately $\\sigma\\sqrt{\\delta t}$"
   ]
  },
  {
   "cell_type": "code",
   "execution_count": 52,
   "metadata": {
    "collapsed": true
   },
   "outputs": [],
   "source": [
    "import math\n",
    "\n",
    "\n",
    "def get_payoff(s, k):\n",
    "    return max(0, s - k)\n",
    "\n",
    "\n",
    "def get_premium(asset: float, \n",
    "                volatility: float, \n",
    "                int_rate: float, \n",
    "                strike: float, \n",
    "                expiry: float, \n",
    "                steps: int):\n",
    "    \n",
    "    S = (steps + 1) * [0]\n",
    "    V = (steps + 1) * [0]\n",
    "    \n",
    "    time_step = expiry / steps\n",
    "    discount_factor = math.exp(-int_rate * time_step)\n",
    "    temp1 = math.exp((int_rate + volatility ** 2) * time_step)\n",
    "    temp2 = 0.5 * (discount_factor + temp1)\n",
    "    u = temp2 + (temp2 ** 2 - 1) ** 0.5\n",
    "    d = 1 / u\n",
    "    p = (math.exp(int_rate * time_step) - d) / (u - d)\n",
    "    \n",
    "    \n",
    "    S[0] = asset\n",
    "    \n",
    "    for i in range(1, steps + 1):\n",
    "        for j in range(i, 0, -1):\n",
    "            S[j] = u * S[j - 1]\n",
    "        S[0] = d * S[0]\n",
    "        \n",
    "    for j in range(steps + 1):\n",
    "        V[j] = get_payoff(S[j], strike)\n",
    "        \n",
    "    for n in range(steps, 0, -1):\n",
    "        for j in range(n):\n",
    "            V[j] = (p * V[j + 1] + (1 - p) * V[j]) * discount_factor\n",
    "    \n",
    "    return V"
   ]
  },
  {
   "cell_type": "code",
   "execution_count": 55,
   "metadata": {},
   "outputs": [
    {
     "data": {
      "text/plain": [
       "[25.150290263651623,\n",
       " 33.72334156844732,\n",
       " 44.44357728854601,\n",
       " 57.53752423318252,\n",
       " 73.16683636683551,\n",
       " 91.43609007996497,\n",
       " 112.43599531588106,\n",
       " 136.31611077170143,\n",
       " 163.35025806586023,\n",
       " 193.93601803393943,\n",
       " 228.5207859007925,\n",
       " 267.60800766175475,\n",
       " 311.764197126377]"
      ]
     },
     "execution_count": 55,
     "metadata": {},
     "output_type": "execute_result"
    }
   ],
   "source": [
    "asset = 100\n",
    "strike = 100\n",
    "interest_rate = 0.05\n",
    "volatility = 0.2\n",
    "expiry = 4\n",
    "steps = 12\n",
    "get_premium(asset, volatility, interest_rate, strike, expiry, steps)"
   ]
  },
  {
   "cell_type": "code",
   "execution_count": 54,
   "metadata": {},
   "outputs": [
    {
     "name": "stdout",
     "output_type": "stream",
     "text": [
      "[10, 9, 8, 7, 6, 5, 4, 3, 2, 1]\n"
     ]
    }
   ],
   "source": [
    "print(list(range(10, 0, -1)))"
   ]
  },
  {
   "cell_type": "markdown",
   "metadata": {},
   "source": [
    "#### Option's Delta\n",
    "\n",
    "$\\Delta = \\frac{V^+ - V^-}{S(u-v)}$ <br/>\n",
    "Delta is sensitivity to price change $\\frac{\\partial V}{\\partial S}$ <br/>\n",
    "Gamma is sensitivity of Delta to price change $\\frac{\\partial^2 V}{\\partial S^2}$ <br/>\n",
    "Theta is sensitivity to time $\\frac{\\partial V}{\\partial t}$ <br/>\n",
    "Vega is sensitivity to volatility $\\frac{\\partial V}{\\partial \\sigma}$ <br/>"
   ]
  },
  {
   "cell_type": "markdown",
   "metadata": {},
   "source": [
    "#### Black-Scholes equation\n",
    "$$ \\frac{\\partial V}{\\partial t} + \n",
    "\\frac{1}{2} \\sigma^2 S^2 \\frac{\\partial^2 V}{\\partial S^2} +\n",
    "rS\\frac{\\partial V}{\\partial S} -\n",
    "rV = 0$$"
   ]
  },
  {
   "cell_type": "markdown",
   "metadata": {
    "collapsed": true
   },
   "source": [
    "----------------\n",
    "#### Exercise 1 [done]\n",
    "\n",
    "\\begin{cases} \n",
    "pu + (1-p)v = e^{\\mu\\delta t} \\\\ \n",
    "pu^2+(1-p)v^2 = e^{(2\\mu + \\sigma^2)\\delta t} \n",
    "\\end{cases}\n",
    "\n",
    "assuming $p = 0.5$\n",
    "\n",
    "\\begin{cases} \n",
    "u + v = 2e^{\\mu\\delta t} \\\\ \n",
    "u^2 + v^2 = 2e^{(2\\mu + \\sigma^2)\\delta t} \n",
    "\\end{cases}\n",
    "\n",
    "implies\n",
    "\n",
    "\\begin{cases} \n",
    "v = 2e^{\\mu\\delta t} - u \\\\ \n",
    "u^2 - 2ue^{\\mu\\delta t} + e^{2\\mu\\delta t}(2 - e^{\\sigma^2 \\delta t}) = 0\n",
    "\\end{cases}\n",
    "\n",
    "Hence\n",
    "\n",
    "\\begin{cases} \n",
    "u = e^{\\mu\\delta t} (1 + \\sqrt{e^{\\sigma^2 \\delta t} - 1}) \\\\ \n",
    "v = 2e^{\\mu\\delta t} - e^{\\mu\\delta t} (1 + \\sqrt{e^{\\sigma^2 \\delta t} - 1})\n",
    "\\end{cases}"
   ]
  },
  {
   "cell_type": "markdown",
   "metadata": {},
   "source": [
    "----------------\n",
    "#### Exercise 2 [TO DO]"
   ]
  },
  {
   "cell_type": "markdown",
   "metadata": {},
   "source": [
    "----------------\n",
    "#### Exercise 3 [done]\n",
    "###### Delta hedging approach\n",
    "$S = 80, E=79, uS = 84, vS=76, r=0$ <br/>\n",
    "Binomial tree is\n",
    "<table>\n",
    "<tr><td></td><td>$max(84-79, 0) = 5$</td></tr>\n",
    "<tr><td>C</td><td></td></tr>\n",
    "<tr><td></td><td>$max(76-79, 0) = 0$</td></tr>\n",
    "</table>\n",
    "If we set up a Black-Scholes hedged portfolio, $C - \\Delta S$, then binomial tree will be<table>\n",
    "<tr><td></td><td>$5 - 84 \\Delta$</td></tr>\n",
    "<tr><td>$C - 80\\Delta$</td><td></td></tr>\n",
    "<tr><td></td><td>$-76 \\Delta$</td></tr>\n",
    "</table>\n",
    "For a risk-freee portfolio $5 - 84\\Delta = -76\\Delta$, hence $\\Delta = \\frac{5}{8}$. <br/>\n",
    "In absense of arbitrage $C - 80\\Delta = -76\\Delta$, hence $C=2.5$\n",
    "\n",
    "###### Risk neutral approach\n",
    "$p' 84 + (1-p')76 = 80$, hence risk-neutral probability is $p'=0.5$ <br/>\n",
    "Option value is got from risk-neutral payoff $5p' + 0 \\times (1-p') = 5 * 0.5 = 2.5$ <br/>\n",
    "$C = 2.5$"
   ]
  },
  {
   "cell_type": "markdown",
   "metadata": {},
   "source": [
    "----------------\n",
    "#### Exercise 4  [done]\n",
    "$S = 92, E=90, uS = 98, vS=86, r=0.02$\n",
    "###### Delta hedging approach\n",
    "$8 - 98\\Delta = 0 - 86\\Delta \\implies \\Delta = \\frac{5}{8}$ <br/>\n",
    "$C - 92\\Delta = -e^{-0.02} \\times 86 \\Delta \\implies C = 5.135$\n",
    "###### Risk neutral approach\n",
    "$p' 98e^{-0.02} + (1-p')86e^{-0.02} = 92$, hence risk-neutral probability is $p'=0.655$ <br/>\n",
    "Option value is got from risk-neutral payoff $8p' + 0 \\times (1-p') = 5.239$ <br/>\n",
    "C = 5.239e^{-0.02} = 5.135"
   ]
  },
  {
   "cell_type": "markdown",
   "metadata": {},
   "source": [
    "----------------\n",
    "#### Exercise 5 [done]\n",
    "$S = 45, E=44, uS = 47, vS=43, r=0.06$<br/>\n",
    "\n",
    "Stock price table:<br/>\n",
    "<table>\n",
    "<tr><td>  </td><td>  </td><td>49</td></tr>\n",
    "<tr><td>  </td><td>47</td><td>  </td></tr>\n",
    "<tr><td>45</td><td>  </td><td>45</td></tr>\n",
    "<tr><td>  </td><td>43</td><td>  </td></tr>\n",
    "<tr><td>  </td><td>  </td><td>41</td></tr>\n",
    "</table>\n",
    "\n",
    "\n",
    "Option payoff table:<br/>\n",
    "<table>\n",
    "<tr><td width=\"100\">   </td><td width=\"100\">     </td><td width=\"100\"> 5</td></tr>\n",
    "<tr><td>   </td><td>$C_1=3.22$</td><td>  </td></tr>\n",
    "<tr><td>$C$</td><td>     </td><td> 1</td></tr>\n",
    "<tr><td>   </td><td>$C_2=0.55$</td><td>  </td></tr>\n",
    "<tr><td>   </td><td>     </td><td> 0</td></tr>\n",
    "</table>\n"
   ]
  },
  {
   "cell_type": "markdown",
   "metadata": {},
   "source": [
    "###### Delta hedging approach\n",
    "Find $C_1$: <br/>\n",
    "$5 - 49 \\Delta_1 = 1 - 45\\Delta_1 \\implies \\Delta_1=1$ <br/>\n",
    "$C_1 - 47\\Delta_1 = e^{-0.06/12}(1 - 45 \\Delta_1) \\implies C_1 = 3.22$ <br/>\n",
    "\n",
    "Find $C_2$: <br/>\n",
    "$1 - 45\\Delta_2 = 0 - 41\\Delta_2 \\implies \\Delta_2 = \\frac{1}{4}$<br/>\n",
    "$C_2 - 43\\Delta_2 = e^{-0.06/12}(0 - 41\\Delta_2) \\implies C_2 = 0.55$ <br/>\n",
    "\n",
    "Find $C$: <br/>\n",
    "$3.22 - 47\\Delta = 0.55 - 43\\Delta \\implies \\Delta = 0.6675$<br/>\n",
    "$C - 45\\Delta = e^{-0.06/12}(0.55-43\\Delta) \\implies C = 2.025$\n",
    "\n",
    "###### Risk neutral approach\n",
    "$p_1^{'}49e^{-0.005} + (1-p_1^{'})45e^{-0.005}=47 \\implies p_1^{'}=0.559$<br/>\n",
    "$C_1 = e^{\\frac{-0.06}{12}}(5 \\times p_1^{'} + 1 \\times (1 - p_1^{'})) = 3.236 e^{-0.005} = 3.22$ <br/>\n",
    "and so force ...\n"
   ]
  },
  {
   "cell_type": "markdown",
   "metadata": {},
   "source": [
    "--------------\n",
    "#### Exercise 6\n",
    "$S = 63, E = 61, r = 0.04$\n"
   ]
  },
  {
   "cell_type": "code",
   "execution_count": null,
   "metadata": {
    "collapsed": true
   },
   "outputs": [],
   "source": []
  },
  {
   "cell_type": "markdown",
   "metadata": {},
   "source": [
    "--------------\n",
    "#### Exercise 7 [done]\n",
    "$S = 15, uS = 17, vS = 13, payoff = \\max (S^2-159, 0)$\n",
    "\n",
    "###### Delta hedging approach\n",
    "$130 - 17\\Delta = 10 - 13\\Delta \\implies \\Delta = 30$ <br/>\n",
    "$C - 15\\Delta = 10 - 13\\Delta \\implies C = 10 + 2\\Delta = 10 + 2*30 = 70$\n",
    "\n",
    "###### Risk neutral approach\n",
    "$17p' + 13(1-p') = 15 \\implies p'=0.5$ <br/>\n",
    "$C = 130p' + 10(1-p') = 65 + 5 = 70$"
   ]
  },
  {
   "cell_type": "markdown",
   "metadata": {},
   "source": [
    "#### Exercise 8"
   ]
  },
  {
   "cell_type": "markdown",
   "metadata": {},
   "source": [
    "--------------\n",
    "#### Exercise 9 [done]\n",
    "$75 \\times e^{\\frac{0.04}{4}} = 92 \\times p + 59 \\times (1-p) \\implies p = 0.5077$ "
   ]
  },
  {
   "cell_type": "code",
   "execution_count": 85,
   "metadata": {},
   "outputs": [
    {
     "data": {
      "text/plain": [
       "0.5076897736761394"
      ]
     },
     "execution_count": 85,
     "metadata": {},
     "output_type": "execute_result"
    }
   ],
   "source": [
    "(75*math.exp(0.01)-59) / (92-59)"
   ]
  },
  {
   "cell_type": "code",
   "execution_count": 87,
   "metadata": {},
   "outputs": [
    {
     "data": {
      "text/plain": [
       "130"
      ]
     },
     "execution_count": 87,
     "metadata": {},
     "output_type": "execute_result"
    }
   ],
   "source": [
    "17*17-159"
   ]
  },
  {
   "cell_type": "code",
   "execution_count": 88,
   "metadata": {},
   "outputs": [
    {
     "data": {
      "text/plain": [
       "10"
      ]
     },
     "execution_count": 88,
     "metadata": {},
     "output_type": "execute_result"
    }
   ],
   "source": [
    "13*13-159"
   ]
  },
  {
   "cell_type": "code",
   "execution_count": null,
   "metadata": {
    "collapsed": true
   },
   "outputs": [],
   "source": [
    "(15-)"
   ]
  }
 ],
 "metadata": {
  "kernelspec": {
   "display_name": "Python 3",
   "language": "python",
   "name": "python3"
  },
  "language_info": {
   "codemirror_mode": {
    "name": "ipython",
    "version": 3
   },
   "file_extension": ".py",
   "mimetype": "text/x-python",
   "name": "python",
   "nbconvert_exporter": "python",
   "pygments_lexer": "ipython3",
   "version": "3.6.3"
  }
 },
 "nbformat": 4,
 "nbformat_minor": 2
}
