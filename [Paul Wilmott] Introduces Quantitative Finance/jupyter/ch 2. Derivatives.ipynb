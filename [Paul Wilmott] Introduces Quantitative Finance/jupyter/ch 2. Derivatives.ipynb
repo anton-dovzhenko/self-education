{
 "cells": [
  {
   "cell_type": "code",
   "execution_count": 2,
   "metadata": {
    "collapsed": true
   },
   "outputs": [],
   "source": [
    "import math"
   ]
  },
  {
   "cell_type": "markdown",
   "metadata": {},
   "source": [
    "### Factors affecting derivetive prices\n",
    "<b>Variables</b> are underlying asset value $S$ and time to expiry $t$.<br/>\n",
    "<b>Parameters</b> are interest rate, strike price, dividends, <b>volatility</b>.<br/>\n",
    "<br/>\n",
    "<b>Volatility</b> is annualized standard deviation of asset returns.<br/>"
   ]
  },
  {
   "cell_type": "markdown",
   "metadata": {
    "collapsed": true
   },
   "source": [
    "#### Put Call Parity\n",
    "$$\\max(S(T) - E, 0) - \\max(E-S(T), 0) = S(T) - E$$\n",
    "at expiration time<br/>\n",
    "or\n",
    "$$C - P = S - E e^{-r(T-t)}$$"
   ]
  },
  {
   "cell_type": "markdown",
   "metadata": {},
   "source": [
    "#### Binary Put-Call Parity\n",
    "$Binary Call + Binary Put = e^{-r(T-t)}$"
   ]
  },
  {
   "cell_type": "markdown",
   "metadata": {},
   "source": [
    "## Options strategies"
   ]
  },
  {
   "cell_type": "markdown",
   "metadata": {},
   "source": [
    "#### Bull Spread\n",
    "is portfolio of long call option with strike $E_1$ and short call option with strike $E_2$, where $E_2 > E_1$ <br/>\n",
    "Payoff function is \n",
    "$$\\frac{1}{E_2 - E_1} (\\max{(S-E_1, 0)} - \\max{(S-E_2, 0)})$$"
   ]
  },
  {
   "cell_type": "markdown",
   "metadata": {},
   "source": [
    "#### Bear Spread\n",
    "is portfolio of long put with string $E_1$ and short put with strike $E_2$, where $E_2 > E_1$\n",
    "<br/>\n",
    "<br/>\n",
    "<i><font color=\"red\">Definition:</font></i> Strategy involving options of the same type (i.e. calls or puts) is called <b>spread</b>."
   ]
  },
  {
   "cell_type": "markdown",
   "metadata": {},
   "source": [
    "#### Straddle\n",
    "is long call and long put with the same strike (bet on rising volatility)\n",
    "\n",
    "#### Strangle\n",
    "is long call and long put with different strices ($E_{call} > E_{put}$)"
   ]
  },
  {
   "cell_type": "markdown",
   "metadata": {},
   "source": [
    "#### Risk Reversal\n",
    "<b>Long call</b> with strike above corrent spot + <b>short put</b> with strike below current spot."
   ]
  },
  {
   "cell_type": "markdown",
   "metadata": {},
   "source": [
    "#### Butterfly spread\n",
    "Long calls with strikes $E_1$ and $E_3$ and short two calls with strike $E_2$, where $E_1 < E_2 < E_3$"
   ]
  },
  {
   "cell_type": "markdown",
   "metadata": {},
   "source": [
    "#### Calendar spread\n",
    "is strategy involving options with different expiry dates."
   ]
  },
  {
   "cell_type": "markdown",
   "metadata": {},
   "source": [
    "-------------------------\n",
    "##### <font color=\"orange\">Exercise 1 [Done]</font>\n",
    "\n",
    "(a)\n",
    "\\begin{equation}\n",
    "\\Lambda(S) = \n",
    "\\begin{cases}\n",
    "E , \\quad & S<E \\\\\n",
    "S, \\quad & S \\geq E\n",
    "\\end{cases}\n",
    "\\end{equation}\n",
    "\n",
    "(b) $\\Lambda(S) = |S-E|$ <br/>\n",
    "\n",
    "(c) <br/>\n",
    "\n",
    "\\begin{equation}\n",
    "\\Lambda(S) = \n",
    "\\begin{cases}\n",
    "0, \\quad & S <E_1 \\\\\n",
    "S - E_1 , \\quad & S \\in [E_1, E_2] \\\\\n",
    "E_2 - E_1 , \\quad & S>E_2\n",
    "\\end{cases}\n",
    "\\end{equation}\n",
    "\n",
    "(d) case $E_1 < E_2$\n",
    "\\begin{equation}\n",
    "\\Lambda(S) = \n",
    "\\begin{cases}\n",
    "E_2 - S, \\quad & S < E_1 \\\\\n",
    "E_2 - E_1, \\quad & S \\in [E_1, E_2) \\\\\n",
    "S - E_1, \\quad & S \\geq E_2\n",
    "\\end{cases}\n",
    "\\end{equation}\n",
    "\n",
    "case $E_1 = E_2 = E$\n",
    "$$ |S-E| $$\n",
    "\n",
    "case $E_1 > E_2$\n",
    "\\begin{equation}\n",
    "\\Lambda(S) = \n",
    "\\begin{cases}\n",
    "E_2 - S, \\quad & S < E_2 \\\\\n",
    "0, \\quad & S \\in [E_2, E_1) \\\\\n",
    "S - E_1, \\quad & S \\geq E_1\n",
    "\\end{cases}\n",
    "\\end{equation}\n",
    "\n",
    "\n",
    "(e) $E_1 < E < E_2$\n",
    "\\begin{equation}\n",
    "\\Lambda(S) = \n",
    "\\begin{cases}\n",
    "0, \\quad & S < E_1 \\\\\n",
    "S - E_1, \\quad & S \\in [E_1, E) \\\\\n",
    "2E-S-E_1, \\quad & S \\in [E, E_2) \\\\\n",
    "2E-E_1-E_2, \\quad & S \\geq E_2\n",
    "\\end{cases}\n",
    "\\end{equation}"
   ]
  },
  {
   "cell_type": "markdown",
   "metadata": {},
   "source": [
    "##### <font color=\"orange\">Exercise 2 [Done]</font>\n",
    "<b>Payoff</b> diagram does not include premium paid for holding or received from writing. <br/> \n",
    "<b>Profit</b> diagram includes paid or received premiums.\n",
    "\n",
    "\\begin{equation}\n",
    "\\Lambda(S) = \n",
    "\\begin{cases}\n",
    "-S, \\quad & S<E \\\\\n",
    "-S + 2(S-E) = S-2E, \\quad & S \\geq E\n",
    "\\end{cases}\n",
    "\\end{equation}"
   ]
  },
  {
   "cell_type": "markdown",
   "metadata": {},
   "source": [
    "##### <font color=\"orange\">Exercise 3 [Done]</font>\n",
    "$S = 60$<br/>\n",
    "$E = 58$<br/>\n",
    "$C = 3$<br/>\n",
    "$P = 1.5$<br/>\n",
    "$r = 5%$<br/>"
   ]
  },
  {
   "cell_type": "code",
   "execution_count": 4,
   "metadata": {},
   "outputs": [
    {
     "data": {
      "text/plain": [
       "2.720487571354873"
      ]
     },
     "execution_count": 4,
     "metadata": {},
     "output_type": "execute_result"
    }
   ],
   "source": [
    "60 - 58 * math.exp(-0.05/4)"
   ]
  },
  {
   "cell_type": "markdown",
   "metadata": {},
   "source": [
    "There is an arbitrage opportunity\n",
    "$C-P = 3 - 1.5 = 1.5 \\neq 2.72 = S - E e^{-r(T-t)}$"
   ]
  },
  {
   "cell_type": "markdown",
   "metadata": {},
   "source": [
    "##### <font color=\"orange\">Exercise 4 [Done]</font>\n",
    "11.91 - 2 * 4.52 + 1.03 = 3.9"
   ]
  },
  {
   "cell_type": "code",
   "execution_count": 8,
   "metadata": {},
   "outputs": [
    {
     "data": {
      "text/plain": [
       "3.9000000000000012"
      ]
     },
     "execution_count": 8,
     "metadata": {},
     "output_type": "execute_result"
    }
   ],
   "source": [
    "11.91 - 2 * 4.52 + 1.03 "
   ]
  },
  {
   "cell_type": "markdown",
   "metadata": {},
   "source": [
    "##### Exercise 5 "
   ]
  },
  {
   "cell_type": "code",
   "execution_count": null,
   "metadata": {
    "collapsed": true
   },
   "outputs": [],
   "source": []
  }
 ],
 "metadata": {
  "kernelspec": {
   "display_name": "Python 3",
   "language": "python",
   "name": "python3"
  },
  "language_info": {
   "codemirror_mode": {
    "name": "ipython",
    "version": 3
   },
   "file_extension": ".py",
   "mimetype": "text/x-python",
   "name": "python",
   "nbconvert_exporter": "python",
   "pygments_lexer": "ipython3",
   "version": "3.6.3"
  }
 },
 "nbformat": 4,
 "nbformat_minor": 2
}
